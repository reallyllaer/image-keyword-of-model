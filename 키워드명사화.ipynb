{
  "nbformat": 4,
  "nbformat_minor": 0,
  "metadata": {
    "colab": {
      "provenance": []
    },
    "kernelspec": {
      "name": "python3",
      "display_name": "Python 3"
    },
    "language_info": {
      "name": "python"
    }
  },
  "cells": [
    {
      "cell_type": "code",
      "execution_count": null,
      "metadata": {
        "id": "jgbiEri5frgu"
      },
      "outputs": [],
      "source": []
    },
    {
      "cell_type": "markdown",
      "source": [
        "## 3) 키워드 명사화\n",
        "- 형용사(VA), 어근(XR) 형태의 형태소들을 명사형으로 키워드에 적합하게 변형함"
      ],
      "metadata": {
        "id": "E95emzMoVARd"
      }
    },
    {
      "cell_type": "markdown",
      "source": [
        "### 형용사(VA) to 명사"
      ],
      "metadata": {
        "id": "rd-DRXTrfLkw"
      }
    },
    {
      "cell_type": "code",
      "source": [
        "def va_to_noun(adjective_list):\n",
        "    results = []\n",
        "    for adjective in adjective_list:\n",
        "        last_char = adjective[-1]\n",
        "\n",
        "        if (ord(last_char) - 44032) % 28 != 0: #마지막 글자 받침이 있는 경우\n",
        "\n",
        "            if (ord(last_char) - 44032) % 28 == 17: #받침이 ㅂ일때 제거 후 '움' 추가\n",
        "                last_jamo = chr(ord(last_char) - 17) #ㅂ(17)\n",
        "                result = adjective[:-1] + last_jamo + '움'\n",
        "\n",
        "            elif (ord(last_char) - 44032) % 28 == 27: #받침이 ㅎ일때 ㅁ으로 대체\n",
        "                last_jamo = chr(ord(last_char) - 27 + 16) #ㅎ(27), ㅁ(16)\n",
        "                result = adjective[:-1] + last_jamo\n",
        "\n",
        "            else:\n",
        "                result = adjective + \"음\"  #이외 받침 일때 '음'\n",
        "        else:\n",
        "            last_jamo = chr(ord(last_char) + 16) #마지막 글자 받침 없다면 ㅁ 받침을 추가\n",
        "            result = adjective[:-1] + last_jamo\n",
        "\n",
        "        results.append(result)\n",
        "    return results"
      ],
      "metadata": {
        "id": "xoE1UTFka18E"
      },
      "execution_count": null,
      "outputs": []
    },
    {
      "cell_type": "markdown",
      "source": [
        "### 어근(XR) to 명사"
      ],
      "metadata": {
        "id": "AkB8UEevbSHk"
      }
    },
    {
      "cell_type": "code",
      "source": [
        "def xr_to_noun(xr_list):\n",
        "    results = []\n",
        "    for xr in xr_list:\n",
        "        result = xr + '함'\n",
        "\n",
        "        results.append(result)\n",
        "    return results"
      ],
      "metadata": {
        "id": "izUj7-ZibWlu"
      },
      "execution_count": null,
      "outputs": []
    }
  ]
}